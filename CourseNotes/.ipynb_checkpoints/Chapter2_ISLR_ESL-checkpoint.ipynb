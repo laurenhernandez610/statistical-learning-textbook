{
 "cells": [
  {
   "cell_type": "markdown",
   "id": "c609e974",
   "metadata": {},
   "source": [
    "# Statistical Learning Overview\n",
    "\n",
    "\n",
    "%%%%%%% ISLR %%%%%%%\n",
    "\n",
    "Statistical learning is a huge toolbox that allows us to understand data. There are two big ways to categorize these tools, supervised and unsupervised learning. **Supervised** learning consists of a model where you are trying to predict something based on the information you give it, also known as your inputs. **Unsupervised** learning is when you have those inputs but you don't really know what you are gonna get out of it. It gives us a way to build relationships within the data that we didn't know prior. \n",
    "\n",
    "\n",
    "## Terminology\n",
    "Some things we should get out of the way instantly is the way we describe our inputs and outputs. Inputs are almost always denoted using the symbols $X$. If you have more than out input they will be denoted accordingly with numbered subscripts. Naturally, the actual word input is not the only word used to describe the inputs. Other common terms for our $X$ are **predictors, independent variables, features, and variables**. The output is usually denoted by $Y$. It is what the model spits out after we shoved all of our $X$'s into it. Thus, the other ways you will see output described is **responses and dependent variable**. The relationship between $Y$ and $X$ can be written in the following way $$Y = f(X) + \\epsilon$$ where $f$ is a fixed unknown function of $X_{1}, \\dots, X_{p}$ and $\\epsilon$ is just an **error term** which we will go more into detail later, for now just know that it has a mean of 0. The goal is to use statistical learning tools to be able to estimate $f$. \n",
    "\n",
    "%%%%%%%%%%%%%%%%%%%%%"
   ]
  }
 ],
 "metadata": {
  "kernelspec": {
   "display_name": "Python 3 (ipykernel)",
   "language": "python",
   "name": "python3"
  },
  "language_info": {
   "codemirror_mode": {
    "name": "ipython",
    "version": 3
   },
   "file_extension": ".py",
   "mimetype": "text/x-python",
   "name": "python",
   "nbconvert_exporter": "python",
   "pygments_lexer": "ipython3",
   "version": "3.10.4"
  }
 },
 "nbformat": 4,
 "nbformat_minor": 5
}
