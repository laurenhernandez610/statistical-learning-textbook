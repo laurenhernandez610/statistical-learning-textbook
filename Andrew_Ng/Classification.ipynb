{
 "cells": [
  {
   "cell_type": "markdown",
   "id": "b9af98b3",
   "metadata": {},
   "source": [
    "# Classification\n",
    "\n",
    "We are learning about **classification** where our output can only be one output. This is where we introduce **logistic regression**. We are trying to classify here not having a numeric output. \n",
    "\n",
    "## Logistic Regression\n",
    "\n",
    "We want outputs from 0 and 1. To model this we usually use the **sigmoid** function $$g(z) = \\frac{1}{1 + e^{-z}}$$ where $0 < g(z) < 1$. How can we use this to build up to the logistic regression algorithm? Well remember we have the following: $$f_{\\vec{w}, b}(\\vec{x}) = \\vec{w} \\cdot \\vec{x} + b$$ well what if we replaced the $f(x)$ with a $z$. Then we would have that $$z = \\vec{w} \\cdot \\vec{x} + b \\to z \\to g(z) = \\frac{1}{1 + e^{-z}}$$ Then we will get a value between 0 and 1 since we have updated our model to fit logistic regression. Thus, our model gets updated to be known as the **logistic regression model**: $$f_{\\vec{w}, b}(\\vec{x}) = \\frac{1}{1 + e^{-(\\vec{w} \\cdot \\vec{x} + b)}}$$ The way you can interpret the result of this function is that what is the probability that the class is 1 given inputs. It will always be given in a decimal from $0 \\to 1$. The probability way to look at it is $$P(y = 0) + P(y = 1) = 1$$ $$f_{\\vec{w}, b}(\\vec{x}) = P(y = 1|\\vec{x}; \\vec{w}, b)$$ The bottom one reads as the following, $f$ of $x$ is equal to probability that $y$ is equal to 1 given the input features $x$ with the parameters $w, b$. The semi-colon seperates the inputs and the parameters that are given to the model. \n",
    "\n",
    "### Sigmoid Function in Code\n"
   ]
  },
  {
   "cell_type": "code",
   "execution_count": 1,
   "id": "0f7b9a75",
   "metadata": {},
   "outputs": [],
   "source": [
    "def sigmoid(z):\n",
    "    g = 1/(1 + np.exp(-z))\n",
    "    return g"
   ]
  },
  {
   "cell_type": "markdown",
   "id": "08b8b2d6",
   "metadata": {},
   "source": [
    "## Decision boundary\n",
    "\n"
   ]
  }
 ],
 "metadata": {
  "kernelspec": {
   "display_name": "Python 3 (ipykernel)",
   "language": "python",
   "name": "python3"
  },
  "language_info": {
   "codemirror_mode": {
    "name": "ipython",
    "version": 3
   },
   "file_extension": ".py",
   "mimetype": "text/x-python",
   "name": "python",
   "nbconvert_exporter": "python",
   "pygments_lexer": "ipython3",
   "version": "3.10.4"
  }
 },
 "nbformat": 4,
 "nbformat_minor": 5
}
